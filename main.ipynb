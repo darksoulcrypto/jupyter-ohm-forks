{
 "cells": [
  {
   "cell_type": "code",
   "execution_count": 3,
   "id": "5ce67125",
   "metadata": {},
   "outputs": [
    {
     "name": "stdout",
     "output_type": "stream",
     "text": [
      "       Name Ticker\n",
      "0   Olympus    OHM\n",
      "1  Snowbank     SB\n"
     ]
    }
   ],
   "source": [
    "import pandas as pd \n",
    "df = pd.read_csv(\"forks.csv\") \n",
    "print(df)"
   ]
  },
  {
   "cell_type": "code",
   "execution_count": 4,
   "id": "37f59afc",
   "metadata": {},
   "outputs": [
    {
     "name": "stdout",
     "output_type": "stream",
     "text": [
      "       Name Ticker\n",
      "0   Olympus    OHM\n",
      "1  Snowbank     SB\n"
     ]
    }
   ],
   "source": [
    "from jupyter_ohm_forks.coingecko import add_cg_data\n",
    "from jupyter_ohm_forks.debank import add_db_data\n",
    "from jupyter_ohm_forks.defi_llama import add_dl_data\n",
    "from jupyter_ohm_forks.dune import add_du_data\n",
    "\n",
    "df = df.pipe(add_cg_data).pipe(add_db_data).pipe(add_dl_data).pipe(add_du_data)\n",
    "print(df)"
   ]
  },
  {
   "cell_type": "code",
   "execution_count": null,
   "id": "42527273",
   "metadata": {},
   "outputs": [],
   "source": []
  }
 ],
 "metadata": {
  "kernelspec": {
   "display_name": "Python 3 (ipykernel)",
   "language": "python",
   "name": "python3"
  },
  "language_info": {
   "codemirror_mode": {
    "name": "ipython",
    "version": 3
   },
   "file_extension": ".py",
   "mimetype": "text/x-python",
   "name": "python",
   "nbconvert_exporter": "python",
   "pygments_lexer": "ipython3",
   "version": "3.8.10"
  }
 },
 "nbformat": 4,
 "nbformat_minor": 5
}
