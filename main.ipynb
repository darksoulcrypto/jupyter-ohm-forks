{
 "cells": [
  {
   "cell_type": "code",
   "execution_count": 1,
   "id": "5ce67125",
   "metadata": {},
   "outputs": [],
   "source": [
    "import pandas as pd\n",
    "import yaml\n",
    "\n",
    "with open('forks.yaml') as f:\n",
    "    df = pd.json_normalize(yaml.load(f, Loader=yaml.SafeLoader))"
   ]
  },
  {
   "cell_type": "code",
   "execution_count": 2,
   "id": "37f59afc",
   "metadata": {},
   "outputs": [
    {
     "data": {
      "text/plain": [
       "Index(['name', 'token_ticker', 'token_contract', 'staked_ticker',\n",
       "       'staked_contract', 'staking_contract', 'api', 'cg_id', 'cg_symbol',\n",
       "       'cg_name', 'cg_image', 'cg_current_price', 'cg_market_cap',\n",
       "       'cg_market_cap_rank', 'cg_fully_diluted_valuation', 'cg_total_volume',\n",
       "       'cg_high_24h', 'cg_low_24h', 'cg_price_change_24h',\n",
       "       'cg_price_change_percentage_24h', 'cg_market_cap_change_24h',\n",
       "       'cg_market_cap_change_percentage_24h', 'cg_circulating_supply',\n",
       "       'cg_total_supply', 'cg_max_supply', 'cg_ath',\n",
       "       'cg_ath_change_percentage', 'cg_ath_date', 'cg_atl',\n",
       "       'cg_atl_change_percentage', 'cg_atl_date', 'cg_roi', 'cg_last_updated',\n",
       "       'dl_id', 'dl_name', 'dl_address', 'dl_symbol', 'dl_url',\n",
       "       'dl_description', 'dl_chain', 'dl_logo', 'dl_audits', 'dl_audit_note',\n",
       "       'dl_gecko_id', 'dl_cmcId', 'dl_category', 'dl_chains', 'dl_module',\n",
       "       'dl_twitter', 'dl_audit_links', 'dl_oracles', 'dl_slug', 'dl_tvl',\n",
       "       'dl_chainTvls', 'dl_change_1h', 'dl_change_1d', 'dl_change_7d',\n",
       "       'dl_staking', 'dl_fdv', 'dl_mcap', 'dl_pool2', 'dl_forkedFrom',\n",
       "       'dl_listedAt', 'dl_audit', 'dl_audits_link', 'oc_token_ticker',\n",
       "       'oc_total_supply', 'oc_circ_supply', 'oc_five_day_rate',\n",
       "       'oc_staking_apy', 'oc_next_rebase'],\n",
       "      dtype='object')"
      ]
     },
     "execution_count": 2,
     "metadata": {},
     "output_type": "execute_result"
    }
   ],
   "source": [
    "from jupyter_ohm_forks.coingecko import add_coingecko_data\n",
    "from jupyter_ohm_forks.defi_llama import add_defi_llama_data\n",
    "from jupyter_ohm_forks.on_chain import add_on_chain_data\n",
    "\n",
    "df = df.pipe(add_coingecko_data).pipe(add_defi_llama_data).pipe(add_on_chain_data)\n",
    "df.columns"
   ]
  },
  {
   "cell_type": "code",
   "execution_count": 6,
   "id": "f0edecd3",
   "metadata": {},
   "outputs": [
    {
     "data": {
      "text/plain": [
       "',name,token_ticker,token_contract,staked_ticker,staked_contract,staking_contract,api,cg_id,cg_symbol,cg_name,cg_image,cg_current_price,cg_market_cap,cg_market_cap_rank,cg_fully_diluted_valuation,cg_total_volume,cg_high_24h,cg_low_24h,cg_price_change_24h,cg_price_change_percentage_24h,cg_market_cap_change_24h,cg_market_cap_change_percentage_24h,cg_circulating_supply,cg_total_supply,cg_max_supply,cg_ath,cg_ath_change_percentage,cg_ath_date,cg_atl,cg_atl_change_percentage,cg_atl_date,cg_roi,cg_last_updated,dl_id,dl_name,dl_address,dl_symbol,dl_url,dl_description,dl_chain,dl_logo,dl_audits,dl_audit_note,dl_gecko_id,dl_cmcId,dl_category,dl_chains,dl_module,dl_twitter,dl_audit_links,dl_oracles,dl_slug,dl_tvl,dl_chainTvls,dl_change_1h,dl_change_1d,dl_change_7d,dl_staking,dl_fdv,dl_mcap,dl_pool2,dl_forkedFrom,dl_listedAt,dl_audit,dl_audits_link,oc_token_ticker,oc_five_day_rate,oc_staking_apy,oc_next_rebase\\n0,olympus,ohm,0x383518188c0c6d7730d91b2c03a03c837814a899,sohm,0x04f2694c8fcee23e8fd0dfea1d4f5bb8c352111f,0xFd31c7d00Ca47653c6Ce64Af53c1571f9C36566a,https://mainnet.infura.io/v3/40f886f8daa347ec901aa7e83d3300de,olympus,ohm,Olympus,https://assets.coingecko.com/coins/images/14483/large/token_OHM_%281%29.png?1628311611,515.93,2958475517,60,3454593493.0,149637452,540.1,449.54,-17.312081174657,-3.24654,-76386720.59256124,-2.51697,5757549.084551259,6723054.31878895,6723054.31878895,1415.26,-63.54031,2021-04-25T00:00:00.000Z,162.79,216.9736,2021-05-23T22:25:07.703Z,,2021-12-09T00:23:57.716Z,340,Olympus DAO,0x383518188c0c6d7730d91b2c03a03c837814a899,ohm,https://olympusdao.finance/,$OHM is a decentralized reserve currency that remains unbound by a peg.,Ethereum,https://icons.llama.fi/olympus-dao.jpg,2,,olympus,9067,Assets,[\\'Ethereum\\'],olympus/index.js,OlympusDAO,[\\'https://docs.olympusdao.finance/references/audits\\'],,olympus-dao,759950375.6583897,\"{\\'Ethereum\\': 759950375.6583897, \\'Ethereum-staking\\': 2624901487.0585127, \\'staking\\': 2624901487.0585127}\",0.48237950532950435,-0.5417436866357832,-10.318588613504204,2624901487.0585127,3447466824.0,2952372317.0,,,,,,ohm,0.06031138144063086,70.88526724478503,13769800\\n1,otterclam,clam,0xC250e9987A032ACAC293d838726C511E6E1C029d,sclam,0xAAc144Dc08cE39Ed92182dd85ded60E5000C9e67,0xC8B0243F350AA5F8B979b228fAe522DAFC61221a,https://rpc-mainnet.maticvigil.com,otterclam,clam,OtterClam,https://assets.coingecko.com/coins/images/20670/large/clam.png?1637548092,37.09,5364343,1533,,184080,38.42,36.25,-0.216078074205,-0.57918,-23576.53686502017,-0.43758,145273.0,180333.215238042,,69.12,-46.33835,2021-11-22T04:04:57.130Z,31.77,16.73946,2021-11-28T20:10:10.662Z,,2021-12-09T00:16:46.910Z,803,OtterClam,polygon:0x4d6A30EFBE2e9D7A9C143Fce1C5Bb30d9312A465,clam,https://www.otterclam.finance,\"OtterClam is the first decentralized reserve memecoin protocol on Polygon Network based on the CLAM token. Each CLAM token is backed by a basket of assets (e.g. MAI/QUICK/MATIC) in the Otter\\'s treasury, giving it an intrinsic value that it cannot fall below. OtterClam also introduces economic and game-theoretic dynamics into the market through staking and bonding.\",Polygon,https://icons.llama.fi/otterclam.png,0,,otter-clam,13935,Assets,[\\'Polygon\\'],otterclam.js,otterclam,,,otterclam,3006280.1230132063,\"{\\'Polygon\\': 3006280.1230132063, \\'Polygon-staking\\': 4415550.237236519, \\'staking\\': 4415550.237236519}\",0.17665225775405702,0.44669746042622194,4.932804260719209,4415550.237236519,,0.0,,[\\'Olympus DAO\\'],1636363218.0,,,clam,0.12011605566294747,3945.395769157792,1639036800\\n'"
      ]
     },
     "execution_count": 6,
     "metadata": {},
     "output_type": "execute_result"
    }
   ],
   "source": [
    "df.to_csv()"
   ]
  },
  {
   "cell_type": "code",
   "execution_count": 4,
   "id": "5e0b6be1",
   "metadata": {},
   "outputs": [
    {
     "data": {
      "text/html": [
       "<div>\n",
       "<style scoped>\n",
       "    .dataframe tbody tr th:only-of-type {\n",
       "        vertical-align: middle;\n",
       "    }\n",
       "\n",
       "    .dataframe tbody tr th {\n",
       "        vertical-align: top;\n",
       "    }\n",
       "\n",
       "    .dataframe thead th {\n",
       "        text-align: right;\n",
       "    }\n",
       "</style>\n",
       "<table border=\"1\" class=\"dataframe\">\n",
       "  <thead>\n",
       "    <tr style=\"text-align: right;\">\n",
       "      <th></th>\n",
       "      <th>name</th>\n",
       "      <th>token_ticker</th>\n",
       "      <th>token_contract</th>\n",
       "      <th>staked_ticker</th>\n",
       "      <th>staked_contract</th>\n",
       "      <th>staking_contract</th>\n",
       "      <th>api</th>\n",
       "      <th>cg_id</th>\n",
       "      <th>cg_symbol</th>\n",
       "      <th>cg_name</th>\n",
       "      <th>...</th>\n",
       "      <th>dl_mcap</th>\n",
       "      <th>dl_pool2</th>\n",
       "      <th>dl_forkedFrom</th>\n",
       "      <th>dl_listedAt</th>\n",
       "      <th>dl_audit</th>\n",
       "      <th>dl_audits_link</th>\n",
       "      <th>oc_token_ticker</th>\n",
       "      <th>oc_five_day_rate</th>\n",
       "      <th>oc_staking_apy</th>\n",
       "      <th>oc_next_rebase</th>\n",
       "    </tr>\n",
       "  </thead>\n",
       "  <tbody>\n",
       "    <tr>\n",
       "      <th>0</th>\n",
       "      <td>olympus</td>\n",
       "      <td>ohm</td>\n",
       "      <td>0x383518188c0c6d7730d91b2c03a03c837814a899</td>\n",
       "      <td>sohm</td>\n",
       "      <td>0x04f2694c8fcee23e8fd0dfea1d4f5bb8c352111f</td>\n",
       "      <td>0xFd31c7d00Ca47653c6Ce64Af53c1571f9C36566a</td>\n",
       "      <td>https://mainnet.infura.io/v3/40f886f8daa347ec9...</td>\n",
       "      <td>olympus</td>\n",
       "      <td>ohm</td>\n",
       "      <td>Olympus</td>\n",
       "      <td>...</td>\n",
       "      <td>2.952372e+09</td>\n",
       "      <td>NaN</td>\n",
       "      <td>NaN</td>\n",
       "      <td>NaN</td>\n",
       "      <td>NaN</td>\n",
       "      <td>NaN</td>\n",
       "      <td>ohm</td>\n",
       "      <td>0.060311</td>\n",
       "      <td>70.885267</td>\n",
       "      <td>13769800</td>\n",
       "    </tr>\n",
       "    <tr>\n",
       "      <th>1</th>\n",
       "      <td>otterclam</td>\n",
       "      <td>clam</td>\n",
       "      <td>0xC250e9987A032ACAC293d838726C511E6E1C029d</td>\n",
       "      <td>sclam</td>\n",
       "      <td>0xAAc144Dc08cE39Ed92182dd85ded60E5000C9e67</td>\n",
       "      <td>0xC8B0243F350AA5F8B979b228fAe522DAFC61221a</td>\n",
       "      <td>https://rpc-mainnet.maticvigil.com</td>\n",
       "      <td>otterclam</td>\n",
       "      <td>clam</td>\n",
       "      <td>OtterClam</td>\n",
       "      <td>...</td>\n",
       "      <td>0.000000e+00</td>\n",
       "      <td>NaN</td>\n",
       "      <td>[Olympus DAO]</td>\n",
       "      <td>1.636363e+09</td>\n",
       "      <td>NaN</td>\n",
       "      <td>NaN</td>\n",
       "      <td>clam</td>\n",
       "      <td>0.120116</td>\n",
       "      <td>3945.395769</td>\n",
       "      <td>1639036800</td>\n",
       "    </tr>\n",
       "  </tbody>\n",
       "</table>\n",
       "<p>2 rows × 69 columns</p>\n",
       "</div>"
      ],
      "text/plain": [
       "        name token_ticker                              token_contract  \\\n",
       "0    olympus          ohm  0x383518188c0c6d7730d91b2c03a03c837814a899   \n",
       "1  otterclam         clam  0xC250e9987A032ACAC293d838726C511E6E1C029d   \n",
       "\n",
       "  staked_ticker                             staked_contract  \\\n",
       "0          sohm  0x04f2694c8fcee23e8fd0dfea1d4f5bb8c352111f   \n",
       "1         sclam  0xAAc144Dc08cE39Ed92182dd85ded60E5000C9e67   \n",
       "\n",
       "                             staking_contract  \\\n",
       "0  0xFd31c7d00Ca47653c6Ce64Af53c1571f9C36566a   \n",
       "1  0xC8B0243F350AA5F8B979b228fAe522DAFC61221a   \n",
       "\n",
       "                                                 api      cg_id cg_symbol  \\\n",
       "0  https://mainnet.infura.io/v3/40f886f8daa347ec9...    olympus       ohm   \n",
       "1                 https://rpc-mainnet.maticvigil.com  otterclam      clam   \n",
       "\n",
       "     cg_name  ...       dl_mcap  dl_pool2  dl_forkedFrom   dl_listedAt  \\\n",
       "0    Olympus  ...  2.952372e+09       NaN            NaN           NaN   \n",
       "1  OtterClam  ...  0.000000e+00       NaN  [Olympus DAO]  1.636363e+09   \n",
       "\n",
       "   dl_audit  dl_audits_link  oc_token_ticker  oc_five_day_rate  \\\n",
       "0       NaN             NaN              ohm          0.060311   \n",
       "1       NaN             NaN             clam          0.120116   \n",
       "\n",
       "   oc_staking_apy  oc_next_rebase  \n",
       "0       70.885267        13769800  \n",
       "1     3945.395769      1639036800  \n",
       "\n",
       "[2 rows x 69 columns]"
      ]
     },
     "execution_count": 4,
     "metadata": {},
     "output_type": "execute_result"
    }
   ],
   "source": [
    "df"
   ]
  },
  {
   "cell_type": "code",
   "execution_count": 5,
   "id": "04368086",
   "metadata": {},
   "outputs": [
    {
     "data": {
      "text/plain": [
       "0    1415.26\n",
       "1      69.12\n",
       "Name: cg_ath, dtype: float64"
      ]
     },
     "execution_count": 5,
     "metadata": {},
     "output_type": "execute_result"
    }
   ],
   "source": [
    "df.cg_ath"
   ]
  },
  {
   "cell_type": "code",
   "execution_count": null,
   "id": "c65a050f",
   "metadata": {},
   "outputs": [],
   "source": []
  }
 ],
 "metadata": {
  "kernelspec": {
   "display_name": "Python 3 (ipykernel)",
   "language": "python",
   "name": "python3"
  },
  "language_info": {
   "codemirror_mode": {
    "name": "ipython",
    "version": 3
   },
   "file_extension": ".py",
   "mimetype": "text/x-python",
   "name": "python",
   "nbconvert_exporter": "python",
   "pygments_lexer": "ipython3",
   "version": "3.8.10"
  }
 },
 "nbformat": 4,
 "nbformat_minor": 5
}
