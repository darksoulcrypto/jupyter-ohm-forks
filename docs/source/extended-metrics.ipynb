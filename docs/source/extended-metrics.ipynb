{
 "cells": [
  {
   "cell_type": "markdown",
   "metadata": {},
   "source": [
    "# OHM Fork Extended Metrics\n",
    "The definition used in this research for extended metrics is to cover anything that is calculated from the basic metrics already covered.  Each extended metric will be covered and will include definition, usage, and a code example.\n",
    "\n",
    "The code below is used throughout the following examples.  It is done once here to reduce repetitiveness"
   ]
  },
  {
   "cell_type": "code",
   "execution_count": 33,
   "metadata": {},
   "outputs": [
    {
     "data": {
      "text/plain": [
       "439.18"
      ]
     },
     "execution_count": 33,
     "metadata": {},
     "output_type": "execute_result"
    }
   ],
   "source": [
    "from web3 import Web3\n",
    "import requests\n",
    "import math\n",
    "w3 = Web3(Web3.HTTPProvider('https://mainnet.infura.io/v3/40f886f8daa347ec901aa7e83d3300de')) # Infura\n",
    "\n",
    "token_abi = open(f\"abis/ohm.abi\", \"r\").read()\n",
    "stoken_abi = open(f\"abis/sohm.abi\", \"r\").read()\n",
    "staking_abi = open(f\"abis/sohmstaking.abi\", \"r\").read()\n",
    "supply_abi = open(f\"abis/ohmcirculating.abi\", \"r\").read()\n",
    "\n",
    "token_contract = w3.eth.contract(Web3.toChecksumAddress('0x383518188c0c6d7730d91b2c03a03c837814a899'), abi=token_abi)\n",
    "stoken_contract = w3.eth.contract(Web3.toChecksumAddress('0x04F2694C8fcee23e8Fd0dfEA1d4f5Bb8c352111F'), abi=stoken_abi)\n",
    "staking_contract = w3.eth.contract(Web3.toChecksumAddress('0xFd31c7d00Ca47653c6Ce64Af53c1571f9C36566a'), abi=staking_abi)\n",
    "supply_contract = w3.eth.contract(Web3.toChecksumAddress('0x0EFFf9199Aa1Ac3C3E34E957567C1BE8bF295034'), abi=supply_abi)\n",
    "\n",
    "market_price = requests.get(\"https://api.coingecko.com/api/v3/simple/price?ids=olympus&vs_currencies=usd\").json()['olympus']['usd']\n",
    "market_price"
   ]
  },
  {
   "cell_type": "markdown",
   "metadata": {},
   "source": [
    "## Staking Reward\n",
    "The staking reward is to total OHM to be minted for this epoch.  Each epoch the staking reward calculated below is minted and this would be considered OHM inflation.  Many other extended metrics are based off of staking reward."
   ]
  },
  {
   "cell_type": "code",
   "execution_count": 34,
   "metadata": {},
   "outputs": [
    {
     "data": {
      "text/plain": [
       "31053.0"
      ]
     },
     "execution_count": 34,
     "metadata": {},
     "output_type": "execute_result"
    }
   ],
   "source": [
    "epoch = staking_contract.functions.epoch().call()\n",
    "staking_reward = epoch[3] / math.pow(10, 9)\n",
    "staking_reward"
   ]
  },
  {
   "cell_type": "markdown",
   "metadata": {},
   "source": [
    "## Staking Rebase\n",
    "The staking rebase is the amount of newly minted OHM distributed per OHM staked."
   ]
  },
  {
   "cell_type": "code",
   "execution_count": 35,
   "metadata": {},
   "outputs": [
    {
     "data": {
      "text/plain": [
       "0.005756330365148433"
      ]
     },
     "execution_count": 35,
     "metadata": {},
     "output_type": "execute_result"
    }
   ],
   "source": [
    "circ = stoken_contract.functions.circulatingSupply().call() / math.pow(10, 9)\n",
    "epoch = staking_contract.functions.epoch().call()\n",
    "\n",
    "staking_reward = epoch[3] / math.pow(10, 9)\n",
    "staking_rebase = staking_reward / circ\n",
    "staking_rebase"
   ]
  },
  {
   "cell_type": "markdown",
   "metadata": {},
   "source": [
    "## Staking APY\n",
    "This metric is somewhat obvious hopefully.  To get a value that matches with the Olympus DAO dashboard the staking_apy below needs to be multiplied by 100."
   ]
  },
  {
   "cell_type": "code",
   "execution_count": 36,
   "metadata": {},
   "outputs": [
    {
     "data": {
      "text/plain": [
       "535.5230215392438"
      ]
     },
     "execution_count": 36,
     "metadata": {},
     "output_type": "execute_result"
    }
   ],
   "source": [
    "circ = stoken_contract.functions.circulatingSupply().call() / math.pow(10, 9)\n",
    "epoch = staking_contract.functions.epoch().call()\n",
    "\n",
    "staking_reward = epoch[3] / math.pow(10, 9)\n",
    "staking_rebase = staking_reward / circ\n",
    "staking_apy = math.pow(1 + staking_rebase, 365 * 3) - 1\n",
    "staking_apy"
   ]
  },
  {
   "cell_type": "markdown",
   "metadata": {},
   "source": [
    "## 5 Day ROI\n",
    "The 5 day rate is a good metric to use when trying to determine whether to buy bonds which mature after 5 days or to simply buy and stake.  To get the % shown in the dashboard simply multiple by 100 similar to staking_apy above."
   ]
  },
  {
   "cell_type": "code",
   "execution_count": 37,
   "metadata": {},
   "outputs": [
    {
     "data": {
      "text/plain": [
       "0.08991246973810929"
      ]
     },
     "execution_count": 37,
     "metadata": {},
     "output_type": "execute_result"
    }
   ],
   "source": [
    "circ = stoken_contract.functions.circulatingSupply().call() / math.pow(10, 9)\n",
    "epoch = staking_contract.functions.epoch().call()\n",
    "\n",
    "staking_reward = epoch[3] / math.pow(10, 9)\n",
    "staking_rebase = staking_reward / circ\n",
    "five_day_rate = math.pow(1 + staking_rebase, 5 * 3) - 1\n",
    "five_day_rate"
   ]
  },
  {
   "cell_type": "markdown",
   "metadata": {},
   "source": [
    "## Next Rebase\n",
    "The block number for next rebase."
   ]
  },
  {
   "cell_type": "code",
   "execution_count": 38,
   "metadata": {},
   "outputs": [
    {
     "data": {
      "text/plain": [
       "13800600"
      ]
     },
     "execution_count": 38,
     "metadata": {},
     "output_type": "execute_result"
    }
   ],
   "source": [
    "epoch = staking_contract.functions.epoch().call()\n",
    "next_rebase = epoch[2]\n",
    "next_rebase"
   ]
  },
  {
   "cell_type": "markdown",
   "metadata": {},
   "source": [
    "## Staking TVL\n",
    "Staking TVL is useful to compare to overall market cap."
   ]
  },
  {
   "cell_type": "code",
   "execution_count": 39,
   "metadata": {},
   "outputs": [
    {
     "data": {
      "text/plain": [
       "2369192814.6740994"
      ]
     },
     "execution_count": 39,
     "metadata": {},
     "output_type": "execute_result"
    }
   ],
   "source": [
    "circ = stoken_contract.functions.circulatingSupply().call() / math.pow(10, 9)\n",
    "staking_tvl = circ * market_price\n",
    "staking_tvl"
   ]
  },
  {
   "cell_type": "markdown",
   "metadata": {},
   "source": [
    "## Market Cap\n",
    "The market capitalization is simply the current market price multiplied by the circulating supply."
   ]
  },
  {
   "cell_type": "code",
   "execution_count": 40,
   "metadata": {},
   "outputs": [
    {
     "data": {
      "text/plain": [
       "2677420781.689735"
      ]
     },
     "execution_count": 40,
     "metadata": {},
     "output_type": "execute_result"
    }
   ],
   "source": [
    "circ = supply_contract.functions.OHMCirculatingSupply().call() / math.pow(10, 9)\n",
    "market_cap = circ * market_price\n",
    "market_cap"
   ]
  },
  {
   "cell_type": "markdown",
   "metadata": {},
   "source": [
    "## Percent Staked\n",
    "The percentage of OHM staked can be obtained by taking this extended metric and multiplying by 100."
   ]
  },
  {
   "cell_type": "code",
   "execution_count": 41,
   "metadata": {},
   "outputs": [
    {
     "data": {
      "text/plain": [
       "0.8848787724650768"
      ]
     },
     "execution_count": 41,
     "metadata": {},
     "output_type": "execute_result"
    }
   ],
   "source": [
    "staked_circ_supply = stoken_contract.functions.circulatingSupply().call() / math.pow(10, 9)\n",
    "circ_supply = supply_contract.functions.OHMCirculatingSupply().call() / math.pow(10, 9)\n",
    "\n",
    "percent_staked = staked_circ_supply / circ_supply\n",
    "percent_staked"
   ]
  }
 ],
 "metadata": {
  "interpreter": {
   "hash": "6704a9ea5c10500a3d4be9b0d53f3ac76674cca4c32c3740114f395c41b7d15d"
  },
  "kernelspec": {
   "display_name": "Python 3.8.10 64-bit ('.venv': poetry)",
   "language": "python",
   "name": "python3"
  },
  "language_info": {
   "codemirror_mode": {
    "name": "ipython",
    "version": 3
   },
   "file_extension": ".py",
   "mimetype": "text/x-python",
   "name": "python",
   "nbconvert_exporter": "python",
   "pygments_lexer": "ipython3",
   "version": "3.8.10"
  },
  "orig_nbformat": 4
 },
 "nbformat": 4,
 "nbformat_minor": 2
}
