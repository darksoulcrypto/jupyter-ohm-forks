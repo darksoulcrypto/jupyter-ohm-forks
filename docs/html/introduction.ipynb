{
 "cells": [
  {
   "cell_type": "markdown",
   "metadata": {},
   "source": [
    "## Introduction\n",
    "The goal of this research is to document all basic metrics that can be provided by an OHM forks contracts and those that can be calculated (called extended metrics here).  Additionally, after detailing all metrics and extended metrics these data points will be used to show how historical and snapshot data can aid in the data analysis tasks.  Potential usage scenarios are also to be presented on how to use both the historical and snapshot data within Jupyter by those working on Concave policy roles."
   ]
  }
 ],
 "metadata": {
  "language_info": {
   "name": "python"
  }
 },
 "nbformat": 4,
 "nbformat_minor": 2
}
