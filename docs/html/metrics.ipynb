{
 "cells": [
  {
   "cell_type": "markdown",
   "metadata": {},
   "source": [
    "# Ohm Fork Metrics\n",
    "\n",
    "The on chain data comes directly from the contracts from each OHM fork.  This documnetation will go through each of the contracts and show what useful information/metrics we can pull from each.  Later these basic metrics can be use to create calculated extended metrics.\n",
    "\n",
    "The code below is used throughout the following examples.  It is done once here to reduce repetitiveness"
   ]
  },
  {
   "cell_type": "code",
   "execution_count": 4,
   "metadata": {},
   "outputs": [],
   "source": [
    "from web3 import Web3\n",
    "import requests\n",
    "import math\n",
    "w3 = Web3(Web3.HTTPProvider('https://mainnet.infura.io/v3/40f886f8daa347ec901aa7e83d3300de')) # Infura\n",
    "\n",
    "token_abi = open(f\"abis/ohm.abi\", \"r\").read()\n",
    "stoken_abi = open(f\"abis/sohm.abi\", \"r\").read()\n",
    "staking_abi = open(f\"abis/sohmstaking.abi\", \"r\").read()\n",
    "supply_abi = open(f\"abis/ohmcirculating.abi\", \"r\").read()\n",
    "\n",
    "token_contract = w3.eth.contract(Web3.toChecksumAddress('0x383518188c0c6d7730d91b2c03a03c837814a899'), abi=token_abi)\n",
    "stoken_contract = w3.eth.contract(Web3.toChecksumAddress('0x04F2694C8fcee23e8Fd0dfEA1d4f5Bb8c352111F'), abi=stoken_abi)\n",
    "staking_contract = w3.eth.contract(Web3.toChecksumAddress('0xFd31c7d00Ca47653c6Ce64Af53c1571f9C36566a'), abi=staking_abi)\n",
    "supply_contract = w3.eth.contract(Web3.toChecksumAddress('0x0EFFf9199Aa1Ac3C3E34E957567C1BE8bF295034'), abi=supply_abi)"
   ]
  },
  {
   "cell_type": "markdown",
   "metadata": {},
   "source": [
    "## Token Contract\n",
    "The main metric to collect from the Token Contract is totalSupply.  The following code shows how to pull totalSupply from the Olympus DAO token contract."
   ]
  },
  {
   "cell_type": "code",
   "execution_count": 5,
   "metadata": {},
   "outputs": [
    {
     "data": {
      "text/plain": [
       "6897078.419865322"
      ]
     },
     "execution_count": 5,
     "metadata": {},
     "output_type": "execute_result"
    }
   ],
   "source": [
    "total_supply = token_contract.functions.totalSupply().call() / math.pow(10, 9)\n",
    "total_supply"
   ]
  },
  {
   "cell_type": "markdown",
   "metadata": {},
   "source": [
    "## Staked Token Contract\n",
    "The staked contract has the circulatingSupply that represents ONLY the circulating supply of staked tokens."
   ]
  },
  {
   "cell_type": "code",
   "execution_count": 6,
   "metadata": {},
   "outputs": [
    {
     "data": {
      "text/plain": [
       "5394490.747230547"
      ]
     },
     "execution_count": 6,
     "metadata": {},
     "output_type": "execute_result"
    }
   ],
   "source": [
    "circ = stoken_contract.functions.circulatingSupply().call() / math.pow(10, 9)\n",
    "circ"
   ]
  },
  {
   "cell_type": "markdown",
   "metadata": {},
   "source": [
    "## Staking Contract\n",
    "The staking contract has the epoch and index.  Epoch is a list made up of (length, number, endblock, distribute)."
   ]
  },
  {
   "cell_type": "code",
   "execution_count": 7,
   "metadata": {},
   "outputs": [
    {
     "data": {
      "text/plain": [
       "((2200, 767, 13800600, 31053000000000), 46.095847456)"
      ]
     },
     "execution_count": 7,
     "metadata": {},
     "output_type": "execute_result"
    }
   ],
   "source": [
    "epoch = staking_contract.functions.epoch().call()\n",
    "(length, number, end_block, distribute) = epoch\n",
    "index = staking_contract.functions.index().call()\n",
    "((length, number, end_block, distribute), index / math.pow(10, 9))"
   ]
  },
  {
   "cell_type": "markdown",
   "metadata": {},
   "source": [
    "## Circulating Supply Contract\n",
    "The circulating supply contract provides OHMCirculatingSupply which can be used to see total OHM circulating."
   ]
  },
  {
   "cell_type": "code",
   "execution_count": 8,
   "metadata": {},
   "outputs": [
    {
     "data": {
      "text/plain": [
       "6096408.720091386"
      ]
     },
     "execution_count": 8,
     "metadata": {},
     "output_type": "execute_result"
    }
   ],
   "source": [
    "circulating_supply = supply_contract.functions.OHMCirculatingSupply().call() / math.pow(10, 9)\n",
    "circulating_supply"
   ]
  },
  {
   "cell_type": "markdown",
   "metadata": {},
   "source": [
    "## Bond Contracts\n",
    "At this time, bond contracts and their associated metrics are not going to be covered.  At a later date, this research may be extended to include bonds as this document is code and will be a live document."
   ]
  }
 ],
 "metadata": {
  "interpreter": {
   "hash": "6704a9ea5c10500a3d4be9b0d53f3ac76674cca4c32c3740114f395c41b7d15d"
  },
  "kernelspec": {
   "display_name": "Python 3.8.10 64-bit ('.venv': poetry)",
   "language": "python",
   "name": "python3"
  },
  "language_info": {
   "codemirror_mode": {
    "name": "ipython",
    "version": 3
   },
   "file_extension": ".py",
   "mimetype": "text/x-python",
   "name": "python",
   "nbconvert_exporter": "python",
   "pygments_lexer": "ipython3",
   "version": "3.8.10"
  }
 },
 "nbformat": 4,
 "nbformat_minor": 2
}
